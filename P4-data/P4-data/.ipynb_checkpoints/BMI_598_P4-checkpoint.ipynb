{
 "cells": [
  {
   "cell_type": "code",
   "execution_count": 1,
   "id": "b6c2b490",
   "metadata": {},
   "outputs": [],
   "source": [
    "import pandas as pd\n",
    "import numpy as np\n",
    "import glob\n",
    "import tensorflow as tf\n",
    "from sklearn.preprocessing import LabelEncoder\n",
    "from sklearn.model_selection import train_test_split\n",
    "from sklearn.preprocessing import StandardScaler\n"
   ]
  },
  {
   "cell_type": "code",
   "execution_count": 2,
   "id": "e88494f9",
   "metadata": {},
   "outputs": [
    {
     "name": "stdout",
     "output_type": "stream",
     "text": [
      "           0      1      2   class\n",
      "15223  22.41 -55.26 -62.50  Supine\n",
      "15224    NaN    NaN    NaN  Supine\n",
      "15225  23.13 -55.57 -62.82  Supine\n",
      "15226    NaN    NaN    NaN  Supine\n",
      "15227  23.38 -55.75 -61.35  Supine\n"
     ]
    }
   ],
   "source": [
    "#Reading the supine csv data file\n",
    "df_supine=pd.read_csv(\"p4-supine-trial1.csv\")\n",
    "df_supine.dropna()\n",
    "\n",
    "# splitting the data into columns\n",
    "accelerometer_cols = df_supine.iloc[:, 0:3]\n",
    "gyroscope_cols = df_supine.iloc[:, 3:6]\n",
    "magnetometer_cols = df_supine.iloc[:, 6:9]\n",
    "\n",
    "# Concatenating the values\n",
    "df_supine2 = pd.DataFrame({'class': np.repeat('Supine', len(df_supine) * 3)})\n",
    "df_supine = pd.DataFrame(np.vstack((accelerometer_cols, gyroscope_cols, magnetometer_cols)))\n",
    "df_supine = pd.concat([df_supine,df_supine2],axis=1)\n",
    "\n",
    "# Reseting the index\n",
    "df_supine = df_supine.reset_index(drop=True)\n",
    "\n",
    "print(df_supine.tail())"
   ]
  },
  {
   "cell_type": "code",
   "execution_count": 3,
   "id": "b0797fae",
   "metadata": {},
   "outputs": [
    {
     "name": "stdout",
     "output_type": "stream",
     "text": [
      "           0      1      2  class\n",
      "15085 -15.43 -80.75  63.60  Prone\n",
      "15086    NaN    NaN    NaN  Prone\n",
      "15087 -21.58 -76.61  60.13  Prone\n",
      "15088    NaN    NaN    NaN  Prone\n",
      "15089 -14.26 -79.39  60.00  Prone\n"
     ]
    }
   ],
   "source": [
    "#Reading the prone csv data file\n",
    "df_prone=pd.read_csv(\"p4-prone-trial1.csv\")\n",
    "df_prone.dropna()\n",
    "\n",
    "# splitting the data into columns\n",
    "accelerometer_cols = df_prone.iloc[:, 0:3]\n",
    "gyroscope_cols = df_prone.iloc[:, 3:6]\n",
    "magnetometer_cols = df_prone.iloc[:, 6:9]\n",
    "\n",
    "# Concatenating the values\n",
    "df_prone2 = pd.DataFrame({'class': np.repeat('Prone', len(df_prone) * 3)})\n",
    "df_prone = pd.DataFrame(np.vstack((accelerometer_cols, gyroscope_cols, magnetometer_cols)))\n",
    "df_prone = pd.concat([df_prone,df_prone2],axis=1)\n",
    "\n",
    "# Reseting the index\n",
    "df_prone = df_prone.reset_index(drop=True)\n",
    "\n",
    "print(df_prone.tail())"
   ]
  },
  {
   "cell_type": "code",
   "execution_count": 4,
   "id": "3593191f",
   "metadata": {},
   "outputs": [
    {
     "name": "stdout",
     "output_type": "stream",
     "text": [
      "           0       1      2 class\n",
      "15535  48.89  -92.74  -4.36  Side\n",
      "15536    NaN     NaN    NaN  Side\n",
      "15537  11.54 -108.57 -17.70  Side\n",
      "15538    NaN     NaN    NaN  Side\n",
      "15539  46.58  -94.57  -4.74  Side\n"
     ]
    }
   ],
   "source": [
    "#Reading the side csv data file\n",
    "df_side=pd.read_csv(\"p4-side-trial1.csv\")\n",
    "df_side.dropna()\n",
    "\n",
    "# splitting the data into columns\n",
    "accelerometer_cols = df_side.iloc[:, 0:3]\n",
    "gyroscope_cols = df_side.iloc[:, 3:6]\n",
    "magnetometer_cols = df_side.iloc[:, 6:9]\n",
    "\n",
    "# Concatenating the values\n",
    "df_side2 = pd.DataFrame({'class': np.repeat('Side', len(df_side) * 3)})\n",
    "df_side = pd.DataFrame(np.vstack((accelerometer_cols, gyroscope_cols, magnetometer_cols)))\n",
    "df_side = pd.concat([df_side,df_side2],axis=1)\n",
    "\n",
    "# Reseting the index\n",
    "df_side = df_side.reset_index(drop=True)\n",
    "\n",
    "print(df_side.tail())"
   ]
  },
  {
   "cell_type": "code",
   "execution_count": 5,
   "id": "a012db28",
   "metadata": {},
   "outputs": [
    {
     "name": "stdout",
     "output_type": "stream",
     "text": [
      "          0      1      2    class\n",
      "6589  55.73  11.69 -17.55  Sitting\n",
      "6590  55.77  10.74 -17.72  Sitting\n",
      "6591  56.12  11.49 -17.83  Sitting\n",
      "6592  55.55  11.58 -18.63  Sitting\n",
      "6593  56.01  11.65 -17.16  Sitting\n"
     ]
    }
   ],
   "source": [
    "#Reading the sitting csv data file\n",
    "df_sit=pd.read_csv(\"p4-sitting-trial1.csv\")\n",
    "df_sit.dropna()\n",
    "\n",
    "# splitting the data into columns\n",
    "accelerometer_cols = df_sit.iloc[:, 0:3]\n",
    "gyroscope_cols = df_sit.iloc[:, 3:6]\n",
    "magnetometer_cols = df_sit.iloc[:, 6:9]\n",
    "\n",
    "# Concatenating the values\n",
    "df_sit2 = pd.DataFrame({'class': np.repeat('Sitting', len(df_sit) * 3)})\n",
    "df_sit = pd.DataFrame(np.vstack((accelerometer_cols, gyroscope_cols, magnetometer_cols)))\n",
    "df_sit = pd.concat([df_sit,df_sit2],axis=1)\n",
    "\n",
    "# Reseting the index\n",
    "df_sit = df_sit.reset_index(drop=True)\n",
    "\n",
    "print(df_sit.tail())"
   ]
  },
  {
   "cell_type": "code",
   "execution_count": 6,
   "id": "30bc84aa",
   "metadata": {},
   "outputs": [
    {
     "name": "stdout",
     "output_type": "stream",
     "text": [
      "           0      1     2    class\n",
      "15295 -14.47 -93.46  5.04  Unknown\n",
      "15296    NaN    NaN   NaN  Unknown\n",
      "15297 -15.43 -92.68  5.21  Unknown\n",
      "15298    NaN    NaN   NaN  Unknown\n",
      "15299 -14.40 -93.31  3.44  Unknown\n"
     ]
    }
   ],
   "source": [
    "#Reading the Unknown csv data file\n",
    "df_un=pd.read_csv(\"p4-unknown-trial1.csv\")\n",
    "df_un.dropna()\n",
    "\n",
    "# splitting the data into columns\n",
    "accelerometer_cols = df_un.iloc[:, 0:3]\n",
    "gyroscope_cols = df_un.iloc[:, 3:6]\n",
    "magnetometer_cols = df_un.iloc[:, 6:9]\n",
    "\n",
    "# Concatenating the values\n",
    "df_un2 = pd.DataFrame({'class': np.repeat('Unknown', len(df_un) * 3)})\n",
    "df_un = pd.DataFrame(np.vstack((accelerometer_cols, gyroscope_cols, magnetometer_cols)))\n",
    "df_un = pd.concat([df_un,df_un2],axis=1)\n",
    "\n",
    "# Reseting the index\n",
    "df_un = df_un.reset_index(drop=True)\n",
    "\n",
    "print(df_un.tail())"
   ]
  },
  {
   "cell_type": "code",
   "execution_count": 7,
   "id": "a3887f4a",
   "metadata": {},
   "outputs": [
    {
     "name": "stdout",
     "output_type": "stream",
     "text": [
      "           0      1     2    class\n",
      "1       0.17  -0.53 -0.84   Supine\n",
      "3       0.17  -0.53 -0.84   Supine\n",
      "5       0.17  -0.53 -0.84   Supine\n",
      "7       0.17  -0.53 -0.84   Supine\n",
      "9       0.17  -0.52 -0.84   Supine\n",
      "...      ...    ...   ...      ...\n",
      "67743 -14.79 -92.35  7.80  Unknown\n",
      "67745 -14.98 -93.29  5.87  Unknown\n",
      "67747 -14.47 -93.46  5.04  Unknown\n",
      "67749 -15.43 -92.68  5.21  Unknown\n",
      "67751 -14.40 -93.31  3.44  Unknown\n",
      "\n",
      "[37173 rows x 4 columns]\n"
     ]
    }
   ],
   "source": [
    "#Combining all the data sets\n",
    "df = pd.concat([df_supine,df_prone,df_side,df_sit,df_un], axis=0)\n",
    "df = df.reset_index(drop=True)\n",
    "df=df.dropna()\n",
    "print(df)"
   ]
  },
  {
   "cell_type": "code",
   "execution_count": 8,
   "id": "5e3c7699",
   "metadata": {
    "scrolled": true
   },
   "outputs": [
    {
     "data": {
      "text/plain": [
       "0        False\n",
       "1        False\n",
       "2        False\n",
       "class    False\n",
       "dtype: bool"
      ]
     },
     "execution_count": 8,
     "metadata": {},
     "output_type": "execute_result"
    }
   ],
   "source": [
    "df.isnull().any()"
   ]
  },
  {
   "cell_type": "code",
   "execution_count": 9,
   "id": "fab8d7d1",
   "metadata": {},
   "outputs": [
    {
     "data": {
      "text/plain": [
       "array(['Supine', 'Prone', 'Side', 'Sitting', 'Unknown'], dtype=object)"
      ]
     },
     "execution_count": 9,
     "metadata": {},
     "output_type": "execute_result"
    }
   ],
   "source": [
    "df['class'].unique()"
   ]
  },
  {
   "cell_type": "code",
   "execution_count": 10,
   "id": "8efb6fe8",
   "metadata": {},
   "outputs": [
    {
     "data": {
      "text/plain": [
       "(37173,)"
      ]
     },
     "execution_count": 10,
     "metadata": {},
     "output_type": "execute_result"
    }
   ],
   "source": [
    "#Label Encoding is done to convert the Textual Data to Numerical Data\n",
    "le = LabelEncoder()\n",
    "df['class'] = le.fit_transform(df['class'])\n",
    "df['class'].shape\n"
   ]
  },
  {
   "cell_type": "code",
   "execution_count": 11,
   "id": "4063afad",
   "metadata": {},
   "outputs": [
    {
     "data": {
      "text/plain": [
       "(37173, 3)"
      ]
     },
     "execution_count": 11,
     "metadata": {},
     "output_type": "execute_result"
    }
   ],
   "source": [
    "#Splitting the dataset into Input and Output\n",
    "#X= df.drop(['class'], axis =1)\n",
    "X_df =df.iloc[:, 0:3]\n",
    "X=X_df.to_numpy()\n",
    "X.shape"
   ]
  },
  {
   "cell_type": "code",
   "execution_count": 12,
   "id": "98a5c902",
   "metadata": {},
   "outputs": [
    {
     "data": {
      "text/plain": [
       "(37173,)"
      ]
     },
     "execution_count": 12,
     "metadata": {},
     "output_type": "execute_result"
    }
   ],
   "source": [
    "#y = df['class']\n",
    "y_df=df.iloc[:,3]\n",
    "y=y_df.to_numpy()\n",
    "y.shape"
   ]
  },
  {
   "cell_type": "code",
   "execution_count": 13,
   "id": "915bb44f",
   "metadata": {},
   "outputs": [],
   "source": [
    "#Splitting the Dataset into Training , Testing and Validation data\n",
    "X_train, X_test, y_train, y_test = train_test_split(\n",
    "    X, y, test_size=0.1, random_state=1)\n",
    "X_train, X_val, y_train, y_val = train_test_split(\n",
    "    X_train, y_train, test_size=0.22, random_state=1)"
   ]
  },
  {
   "cell_type": "code",
   "execution_count": 14,
   "id": "5432c18b",
   "metadata": {},
   "outputs": [],
   "source": [
    "#Scaling the inputs using Standard Scaler\n",
    "sc = StandardScaler()\n",
    "X_train = sc.fit_transform(X_train)\n",
    "X_test = sc.fit_transform(X_test)\n",
    "X_val = sc.fit_transform(X_val)"
   ]
  },
  {
   "cell_type": "code",
   "execution_count": 15,
   "id": "5ea05cdf",
   "metadata": {},
   "outputs": [],
   "source": [
    "#Adding Noise to the data\n",
    "#X_train = X_train + np.random.randn(*X_train.shape)\n",
    "#X_val = X_val + np.random.randn(*X_val.shape)\n",
    "#X_test = X_test + np.random.randn(*X_test.shape)"
   ]
  },
  {
   "cell_type": "code",
   "execution_count": 16,
   "id": "4a13a515",
   "metadata": {},
   "outputs": [],
   "source": [
    "#Importing the libraries of Neural Network\n",
    "import keras\n",
    "from keras.layers import Dense\n",
    "from keras.models import Sequential\n",
    "from keras.initializers import RandomUniform\n"
   ]
  },
  {
   "cell_type": "code",
   "execution_count": 17,
   "id": "5729a0d0",
   "metadata": {},
   "outputs": [
    {
     "name": "stdout",
     "output_type": "stream",
     "text": [
      "Epoch 1/100\n",
      "408/408 [==============================] - 2s 3ms/step - loss: 1.5321 - accuracy: 0.2996 - val_loss: 1.4808 - val_accuracy: 0.2930\n",
      "Epoch 2/100\n",
      "408/408 [==============================] - 2s 5ms/step - loss: 1.4389 - accuracy: 0.3839 - val_loss: 1.4027 - val_accuracy: 0.4014\n",
      "Epoch 3/100\n",
      "408/408 [==============================] - 2s 6ms/step - loss: 1.3657 - accuracy: 0.4273 - val_loss: 1.3366 - val_accuracy: 0.4355\n",
      "Epoch 4/100\n",
      "408/408 [==============================] - 2s 6ms/step - loss: 1.3049 - accuracy: 0.4570 - val_loss: 1.2811 - val_accuracy: 0.4888\n",
      "Epoch 5/100\n",
      "408/408 [==============================] - 2s 6ms/step - loss: 1.2574 - accuracy: 0.4842 - val_loss: 1.2419 - val_accuracy: 0.5017\n",
      "Epoch 6/100\n",
      "408/408 [==============================] - 2s 5ms/step - loss: 1.2231 - accuracy: 0.5030 - val_loss: 1.2111 - val_accuracy: 0.4880\n",
      "Epoch 7/100\n",
      "408/408 [==============================] - 2s 5ms/step - loss: 1.1976 - accuracy: 0.5159 - val_loss: 1.1897 - val_accuracy: 0.5041\n",
      "Epoch 8/100\n",
      "408/408 [==============================] - 2s 5ms/step - loss: 1.1775 - accuracy: 0.5227 - val_loss: 1.1741 - val_accuracy: 0.4900\n",
      "Epoch 9/100\n",
      "408/408 [==============================] - 2s 5ms/step - loss: 1.1604 - accuracy: 0.5285 - val_loss: 1.1608 - val_accuracy: 0.5123\n",
      "Epoch 10/100\n",
      "408/408 [==============================] - 2s 5ms/step - loss: 1.1465 - accuracy: 0.5366 - val_loss: 1.1442 - val_accuracy: 0.5491\n",
      "Epoch 11/100\n",
      "408/408 [==============================] - 2s 5ms/step - loss: 1.1324 - accuracy: 0.5424 - val_loss: 1.1324 - val_accuracy: 0.5598\n",
      "Epoch 12/100\n",
      "408/408 [==============================] - 2s 6ms/step - loss: 1.1213 - accuracy: 0.5526 - val_loss: 1.1185 - val_accuracy: 0.5559\n",
      "Epoch 13/100\n",
      "408/408 [==============================] - 2s 5ms/step - loss: 1.1092 - accuracy: 0.5584 - val_loss: 1.1088 - val_accuracy: 0.5533\n",
      "Epoch 14/100\n",
      "408/408 [==============================] - 2s 5ms/step - loss: 1.0973 - accuracy: 0.5613 - val_loss: 1.0967 - val_accuracy: 0.5719\n",
      "Epoch 15/100\n",
      "408/408 [==============================] - 2s 5ms/step - loss: 1.0874 - accuracy: 0.5684 - val_loss: 1.0928 - val_accuracy: 0.5544\n",
      "Epoch 16/100\n",
      "408/408 [==============================] - 2s 5ms/step - loss: 1.0768 - accuracy: 0.5726 - val_loss: 1.0812 - val_accuracy: 0.5607\n",
      "Epoch 17/100\n",
      "408/408 [==============================] - 2s 6ms/step - loss: 1.0673 - accuracy: 0.5752 - val_loss: 1.0695 - val_accuracy: 0.6010\n",
      "Epoch 18/100\n",
      "408/408 [==============================] - 2s 5ms/step - loss: 1.0564 - accuracy: 0.5847 - val_loss: 1.0631 - val_accuracy: 0.5658\n",
      "Epoch 19/100\n",
      "408/408 [==============================] - 2s 5ms/step - loss: 1.0473 - accuracy: 0.5827 - val_loss: 1.0536 - val_accuracy: 0.5657\n",
      "Epoch 20/100\n",
      "408/408 [==============================] - 2s 5ms/step - loss: 1.0379 - accuracy: 0.5838 - val_loss: 1.0450 - val_accuracy: 0.5994\n",
      "Epoch 21/100\n",
      "408/408 [==============================] - 2s 5ms/step - loss: 1.0297 - accuracy: 0.5855 - val_loss: 1.0354 - val_accuracy: 0.5597\n",
      "Epoch 22/100\n",
      "408/408 [==============================] - 2s 5ms/step - loss: 1.0205 - accuracy: 0.5892 - val_loss: 1.0330 - val_accuracy: 0.5669\n",
      "Epoch 23/100\n",
      "408/408 [==============================] - 2s 5ms/step - loss: 1.0128 - accuracy: 0.5908 - val_loss: 1.0175 - val_accuracy: 0.5833\n",
      "Epoch 24/100\n",
      "408/408 [==============================] - 2s 5ms/step - loss: 1.0044 - accuracy: 0.5939 - val_loss: 1.0137 - val_accuracy: 0.5757\n",
      "Epoch 25/100\n",
      "408/408 [==============================] - 2s 5ms/step - loss: 0.9970 - accuracy: 0.5949 - val_loss: 1.0114 - val_accuracy: 0.5862\n",
      "Epoch 26/100\n",
      "408/408 [==============================] - 2s 5ms/step - loss: 0.9896 - accuracy: 0.5989 - val_loss: 1.0030 - val_accuracy: 0.5647\n",
      "Epoch 27/100\n",
      "408/408 [==============================] - 2s 5ms/step - loss: 0.9822 - accuracy: 0.5966 - val_loss: 0.9980 - val_accuracy: 0.5597\n",
      "Epoch 28/100\n",
      "408/408 [==============================] - 2s 6ms/step - loss: 0.9754 - accuracy: 0.5989 - val_loss: 0.9868 - val_accuracy: 0.6043\n",
      "Epoch 29/100\n",
      "408/408 [==============================] - 2s 5ms/step - loss: 0.9696 - accuracy: 0.6056 - val_loss: 0.9864 - val_accuracy: 0.5759\n",
      "Epoch 30/100\n",
      "408/408 [==============================] - 2s 4ms/step - loss: 0.9634 - accuracy: 0.6076 - val_loss: 0.9793 - val_accuracy: 0.5817\n",
      "Epoch 31/100\n",
      "408/408 [==============================] - 2s 5ms/step - loss: 0.9581 - accuracy: 0.6114 - val_loss: 0.9832 - val_accuracy: 0.5736\n",
      "Epoch 32/100\n",
      "408/408 [==============================] - 2s 5ms/step - loss: 0.9521 - accuracy: 0.6126 - val_loss: 0.9827 - val_accuracy: 0.5835\n",
      "Epoch 33/100\n",
      "408/408 [==============================] - 2s 5ms/step - loss: 0.9482 - accuracy: 0.6132 - val_loss: 0.9631 - val_accuracy: 0.6013\n",
      "Epoch 34/100\n",
      "408/408 [==============================] - 2s 5ms/step - loss: 0.9429 - accuracy: 0.6170 - val_loss: 0.9703 - val_accuracy: 0.5776\n",
      "Epoch 35/100\n",
      "408/408 [==============================] - 2s 5ms/step - loss: 0.9375 - accuracy: 0.6177 - val_loss: 0.9640 - val_accuracy: 0.5793\n",
      "Epoch 36/100\n",
      "408/408 [==============================] - 2s 5ms/step - loss: 0.9335 - accuracy: 0.6203 - val_loss: 0.9621 - val_accuracy: 0.5828\n",
      "Epoch 37/100\n",
      "408/408 [==============================] - 2s 5ms/step - loss: 0.9294 - accuracy: 0.6241 - val_loss: 0.9756 - val_accuracy: 0.5684\n",
      "Epoch 38/100\n",
      "408/408 [==============================] - 2s 6ms/step - loss: 0.9242 - accuracy: 0.6265 - val_loss: 0.9552 - val_accuracy: 0.5874\n",
      "Epoch 39/100\n",
      "408/408 [==============================] - 2s 6ms/step - loss: 0.9215 - accuracy: 0.6264 - val_loss: 0.9517 - val_accuracy: 0.5910\n",
      "Epoch 40/100\n",
      "408/408 [==============================] - 2s 5ms/step - loss: 0.9167 - accuracy: 0.6331 - val_loss: 0.9581 - val_accuracy: 0.5785\n",
      "Epoch 41/100\n",
      "408/408 [==============================] - 2s 5ms/step - loss: 0.9139 - accuracy: 0.6308 - val_loss: 0.9539 - val_accuracy: 0.5847\n",
      "Epoch 42/100\n",
      "408/408 [==============================] - 2s 5ms/step - loss: 0.9110 - accuracy: 0.6330 - val_loss: 0.9501 - val_accuracy: 0.5833\n",
      "Epoch 43/100\n",
      "408/408 [==============================] - 2s 5ms/step - loss: 0.9066 - accuracy: 0.6360 - val_loss: 0.9507 - val_accuracy: 0.5918\n",
      "Epoch 44/100\n",
      "408/408 [==============================] - 2s 5ms/step - loss: 0.9048 - accuracy: 0.6383 - val_loss: 0.9531 - val_accuracy: 0.5840\n",
      "Epoch 45/100\n",
      "408/408 [==============================] - 2s 5ms/step - loss: 0.9014 - accuracy: 0.6372 - val_loss: 0.9459 - val_accuracy: 0.5916\n",
      "Epoch 46/100\n",
      "408/408 [==============================] - 2s 5ms/step - loss: 0.8975 - accuracy: 0.6434 - val_loss: 0.9535 - val_accuracy: 0.5844\n",
      "Epoch 47/100\n",
      "408/408 [==============================] - 2s 5ms/step - loss: 0.8953 - accuracy: 0.6449 - val_loss: 0.9421 - val_accuracy: 0.5979\n",
      "Epoch 48/100\n",
      "408/408 [==============================] - 2s 4ms/step - loss: 0.8919 - accuracy: 0.6515 - val_loss: 0.9351 - val_accuracy: 0.6029\n",
      "Epoch 49/100\n",
      "408/408 [==============================] - 2s 5ms/step - loss: 0.8899 - accuracy: 0.6533 - val_loss: 0.9315 - val_accuracy: 0.6024\n",
      "Epoch 50/100\n",
      "408/408 [==============================] - 2s 5ms/step - loss: 0.8875 - accuracy: 0.6536 - val_loss: 0.9333 - val_accuracy: 0.6011\n",
      "Epoch 51/100\n",
      "408/408 [==============================] - 2s 5ms/step - loss: 0.8844 - accuracy: 0.6567 - val_loss: 0.9386 - val_accuracy: 0.6198\n",
      "Epoch 52/100\n",
      "408/408 [==============================] - 2s 5ms/step - loss: 0.8819 - accuracy: 0.6618 - val_loss: 0.9392 - val_accuracy: 0.5954\n",
      "Epoch 53/100\n",
      "408/408 [==============================] - 2s 5ms/step - loss: 0.8795 - accuracy: 0.6619 - val_loss: 0.9373 - val_accuracy: 0.5992\n",
      "Epoch 54/100\n",
      "408/408 [==============================] - 2s 5ms/step - loss: 0.8766 - accuracy: 0.6671 - val_loss: 0.9219 - val_accuracy: 0.6077\n",
      "Epoch 55/100\n",
      "408/408 [==============================] - 2s 5ms/step - loss: 0.8739 - accuracy: 0.6711 - val_loss: 0.9296 - val_accuracy: 0.6005\n",
      "Epoch 56/100\n",
      "408/408 [==============================] - 2s 6ms/step - loss: 0.8722 - accuracy: 0.6716 - val_loss: 0.9445 - val_accuracy: 0.5915\n",
      "Epoch 57/100\n",
      "408/408 [==============================] - 2s 6ms/step - loss: 0.8684 - accuracy: 0.6721 - val_loss: 0.9319 - val_accuracy: 0.6032\n"
     ]
    },
    {
     "name": "stdout",
     "output_type": "stream",
     "text": [
      "Epoch 58/100\n",
      "408/408 [==============================] - 2s 5ms/step - loss: 0.8669 - accuracy: 0.6749 - val_loss: 0.9376 - val_accuracy: 0.5969\n",
      "Epoch 59/100\n",
      "408/408 [==============================] - 2s 6ms/step - loss: 0.8641 - accuracy: 0.6805 - val_loss: 0.9295 - val_accuracy: 0.6040\n",
      "Epoch 60/100\n",
      "408/408 [==============================] - 2s 5ms/step - loss: 0.8614 - accuracy: 0.6827 - val_loss: 0.9276 - val_accuracy: 0.6060\n",
      "Epoch 61/100\n",
      "408/408 [==============================] - 2s 5ms/step - loss: 0.8596 - accuracy: 0.6827 - val_loss: 0.9266 - val_accuracy: 0.6036\n",
      "Epoch 62/100\n",
      "408/408 [==============================] - 2s 5ms/step - loss: 0.8571 - accuracy: 0.6869 - val_loss: 0.9307 - val_accuracy: 0.6006\n",
      "Epoch 63/100\n",
      "408/408 [==============================] - 2s 5ms/step - loss: 0.8541 - accuracy: 0.6903 - val_loss: 0.9221 - val_accuracy: 0.6134\n",
      "Epoch 64/100\n",
      "408/408 [==============================] - 2s 5ms/step - loss: 0.8531 - accuracy: 0.6943 - val_loss: 0.9370 - val_accuracy: 0.5961\n",
      "Epoch 65/100\n",
      "408/408 [==============================] - 2s 5ms/step - loss: 0.8498 - accuracy: 0.6948 - val_loss: 0.9252 - val_accuracy: 0.6067\n",
      "Epoch 66/100\n",
      "408/408 [==============================] - 2s 5ms/step - loss: 0.8467 - accuracy: 0.6949 - val_loss: 0.9199 - val_accuracy: 0.6104\n",
      "Epoch 67/100\n",
      "408/408 [==============================] - 2s 5ms/step - loss: 0.8448 - accuracy: 0.6986 - val_loss: 0.9282 - val_accuracy: 0.6074\n",
      "Epoch 68/100\n",
      "408/408 [==============================] - 2s 5ms/step - loss: 0.8426 - accuracy: 0.6998 - val_loss: 0.9255 - val_accuracy: 0.6073\n",
      "Epoch 69/100\n",
      "408/408 [==============================] - 2s 5ms/step - loss: 0.8404 - accuracy: 0.6994 - val_loss: 0.9103 - val_accuracy: 0.6162\n",
      "Epoch 70/100\n",
      "408/408 [==============================] - 2s 5ms/step - loss: 0.8370 - accuracy: 0.7005 - val_loss: 0.9576 - val_accuracy: 0.5919\n",
      "Epoch 71/100\n",
      "408/408 [==============================] - 2s 5ms/step - loss: 0.8363 - accuracy: 0.7011 - val_loss: 0.9239 - val_accuracy: 0.6097\n",
      "Epoch 72/100\n",
      "408/408 [==============================] - 2s 5ms/step - loss: 0.8335 - accuracy: 0.7045 - val_loss: 0.9064 - val_accuracy: 0.6280\n",
      "Epoch 73/100\n",
      "408/408 [==============================] - 2s 5ms/step - loss: 0.8307 - accuracy: 0.7053 - val_loss: 0.9303 - val_accuracy: 0.6112\n",
      "Epoch 74/100\n",
      "408/408 [==============================] - 2s 5ms/step - loss: 0.8280 - accuracy: 0.7051 - val_loss: 0.9000 - val_accuracy: 0.6299\n",
      "Epoch 75/100\n",
      "408/408 [==============================] - 2s 5ms/step - loss: 0.8269 - accuracy: 0.7073 - val_loss: 0.9106 - val_accuracy: 0.6179\n",
      "Epoch 76/100\n",
      "408/408 [==============================] - 2s 5ms/step - loss: 0.8227 - accuracy: 0.7079 - val_loss: 0.9251 - val_accuracy: 0.6140\n",
      "Epoch 77/100\n",
      "408/408 [==============================] - 2s 5ms/step - loss: 0.8215 - accuracy: 0.7063 - val_loss: 0.9187 - val_accuracy: 0.6134\n",
      "Epoch 78/100\n",
      "408/408 [==============================] - 2s 5ms/step - loss: 0.8191 - accuracy: 0.7083 - val_loss: 0.9049 - val_accuracy: 0.6234\n",
      "Epoch 79/100\n",
      "408/408 [==============================] - 2s 5ms/step - loss: 0.8161 - accuracy: 0.7079 - val_loss: 0.9188 - val_accuracy: 0.6185\n",
      "Epoch 80/100\n",
      "408/408 [==============================] - 2s 5ms/step - loss: 0.8141 - accuracy: 0.7103 - val_loss: 0.9506 - val_accuracy: 0.5988\n",
      "Epoch 81/100\n",
      "408/408 [==============================] - 2s 5ms/step - loss: 0.8116 - accuracy: 0.7112 - val_loss: 0.9467 - val_accuracy: 0.6047\n",
      "Epoch 82/100\n",
      "408/408 [==============================] - 2s 5ms/step - loss: 0.8095 - accuracy: 0.7091 - val_loss: 0.9326 - val_accuracy: 0.6093\n",
      "Epoch 83/100\n",
      "408/408 [==============================] - 2s 5ms/step - loss: 0.8075 - accuracy: 0.7100 - val_loss: 0.9238 - val_accuracy: 0.6180\n",
      "Epoch 84/100\n",
      "408/408 [==============================] - 2s 5ms/step - loss: 0.8051 - accuracy: 0.7096 - val_loss: 0.9313 - val_accuracy: 0.6127\n",
      "Epoch 85/100\n",
      "408/408 [==============================] - 2s 5ms/step - loss: 0.8024 - accuracy: 0.7129 - val_loss: 0.9321 - val_accuracy: 0.6128\n",
      "Epoch 86/100\n",
      "408/408 [==============================] - 2s 5ms/step - loss: 0.7994 - accuracy: 0.7121 - val_loss: 0.9328 - val_accuracy: 0.6143\n",
      "Epoch 87/100\n",
      "408/408 [==============================] - 2s 5ms/step - loss: 0.7983 - accuracy: 0.7132 - val_loss: 0.9150 - val_accuracy: 0.6229\n",
      "Epoch 88/100\n",
      "408/408 [==============================] - 2s 5ms/step - loss: 0.7960 - accuracy: 0.7129 - val_loss: 0.9725 - val_accuracy: 0.5999\n",
      "Epoch 89/100\n",
      "408/408 [==============================] - 2s 6ms/step - loss: 0.7931 - accuracy: 0.7141 - val_loss: 0.9840 - val_accuracy: 0.5960\n",
      "Epoch 90/100\n",
      "408/408 [==============================] - 2s 5ms/step - loss: 0.7912 - accuracy: 0.7154 - val_loss: 0.9343 - val_accuracy: 0.6174\n",
      "Epoch 91/100\n",
      "408/408 [==============================] - 2s 6ms/step - loss: 0.7892 - accuracy: 0.7155 - val_loss: 0.9406 - val_accuracy: 0.6138\n",
      "Epoch 92/100\n",
      "408/408 [==============================] - 2s 5ms/step - loss: 0.7862 - accuracy: 0.7165 - val_loss: 0.9535 - val_accuracy: 0.6100\n",
      "Epoch 93/100\n",
      "408/408 [==============================] - 2s 5ms/step - loss: 0.7845 - accuracy: 0.7160 - val_loss: 0.9222 - val_accuracy: 0.6240\n",
      "Epoch 94/100\n",
      "408/408 [==============================] - 2s 5ms/step - loss: 0.7814 - accuracy: 0.7154 - val_loss: 0.9478 - val_accuracy: 0.6140\n",
      "Epoch 95/100\n",
      "408/408 [==============================] - 2s 6ms/step - loss: 0.7801 - accuracy: 0.7150 - val_loss: 0.9895 - val_accuracy: 0.5995\n",
      "Epoch 96/100\n",
      "408/408 [==============================] - 2s 6ms/step - loss: 0.7783 - accuracy: 0.7172 - val_loss: 0.9413 - val_accuracy: 0.6195\n",
      "Epoch 97/100\n",
      "408/408 [==============================] - 2s 5ms/step - loss: 0.7753 - accuracy: 0.7163 - val_loss: 0.9583 - val_accuracy: 0.6149\n",
      "Epoch 98/100\n",
      "408/408 [==============================] - 2s 5ms/step - loss: 0.7738 - accuracy: 0.7154 - val_loss: 0.9504 - val_accuracy: 0.6177\n",
      "Epoch 99/100\n",
      "408/408 [==============================] - 2s 6ms/step - loss: 0.7716 - accuracy: 0.7176 - val_loss: 0.9395 - val_accuracy: 0.6203\n",
      "Epoch 100/100\n",
      "408/408 [==============================] - 2s 6ms/step - loss: 0.7680 - accuracy: 0.7184 - val_loss: 1.0019 - val_accuracy: 0.6067\n"
     ]
    }
   ],
   "source": [
    "model = Sequential()\n",
    "model.add(Dense(units=3))\n",
    "# model.add(Dense(units=10,  activation = 'relu'))\n",
    "# model.add(Dense(units=20,  activation = 'relu'))\n",
    "\n",
    "model.add(Dense(units=500,  activation = 'relu'))\n",
    "model.add(Dense(units=125, activation = 'relu'))\n",
    "model.add(Dense(units=15, activation = 'relu'))\n",
    "\n",
    "model.add(Dense(units=5,  activation = 'softmax'))\n",
    "\n",
    "opt = tf.keras.optimizers.Adam(learning_rate=0.0001)\n",
    "model.compile(optimizer =opt, loss = 'sparse_categorical_crossentropy', metrics = ['accuracy'])\n",
    "\n",
    "history = model.fit(X_train,y_train,batch_size =64,validation_data=(X_val,y_val), epochs =100)"
   ]
  },
  {
   "cell_type": "code",
   "execution_count": 18,
   "id": "c6f95d18",
   "metadata": {},
   "outputs": [
    {
     "name": "stdout",
     "output_type": "stream",
     "text": [
      "117/117 [==============================] - 0s 3ms/step\n"
     ]
    },
    {
     "data": {
      "text/plain": [
       "array([2, 4, 2, ..., 1, 2, 4], dtype=int64)"
      ]
     },
     "execution_count": 18,
     "metadata": {},
     "output_type": "execute_result"
    }
   ],
   "source": [
    "y_pred = np.argmax(model.predict(X_test), axis=-1)\n",
    "y_pred"
   ]
  },
  {
   "cell_type": "code",
   "execution_count": 19,
   "id": "3add981c",
   "metadata": {},
   "outputs": [],
   "source": [
    "index = ['Other','Prone','Side','Sitting','Supine']"
   ]
  },
  {
   "cell_type": "code",
   "execution_count": 20,
   "id": "79cdf181",
   "metadata": {},
   "outputs": [
    {
     "data": {
      "text/plain": [
       "'Prone'"
      ]
     },
     "execution_count": 20,
     "metadata": {},
     "output_type": "execute_result"
    }
   ],
   "source": [
    "class1 = index[y_pred[-3]]\n",
    "class1"
   ]
  },
  {
   "cell_type": "code",
   "execution_count": 21,
   "id": "2160b17b",
   "metadata": {},
   "outputs": [],
   "source": [
    "from sklearn.metrics import accuracy_score\n",
    "from sklearn.metrics import classification_report"
   ]
  },
  {
   "cell_type": "code",
   "execution_count": 22,
   "id": "b65a4b67",
   "metadata": {},
   "outputs": [
    {
     "data": {
      "text/plain": [
       "0.5457235072619688"
      ]
     },
     "execution_count": 22,
     "metadata": {},
     "output_type": "execute_result"
    }
   ],
   "source": [
    "accuracy = accuracy_score(y_test, y_pred)\n",
    "report = classification_report(y_test,y_pred)\n",
    "\n",
    "accuracy"
   ]
  },
  {
   "cell_type": "code",
   "execution_count": 23,
   "id": "eac0a33e",
   "metadata": {},
   "outputs": [
    {
     "data": {
      "text/plain": [
       "'              precision    recall  f1-score   support\\n\\n           0       0.56      0.46      0.51       730\\n           1       0.71      0.43      0.54       808\\n           2       0.70      0.56      0.62       645\\n           3       0.69      0.48      0.57       793\\n           4       0.39      0.81      0.52       742\\n\\n    accuracy                           0.55      3718\\n   macro avg       0.61      0.55      0.55      3718\\nweighted avg       0.61      0.55      0.55      3718\\n'"
      ]
     },
     "execution_count": 23,
     "metadata": {},
     "output_type": "execute_result"
    }
   ],
   "source": [
    "report"
   ]
  },
  {
   "cell_type": "code",
   "execution_count": 24,
   "id": "7ce2427f",
   "metadata": {},
   "outputs": [],
   "source": [
    "import matplotlib.pyplot as plt"
   ]
  },
  {
   "cell_type": "code",
   "execution_count": 25,
   "id": "842b9b98",
   "metadata": {},
   "outputs": [
    {
     "data": {
      "image/png": "[encoded data removed]",
      "text/plain": [
       "<Figure size 640x480 with 1 Axes>"
      ]
     },
     "metadata": {},
     "output_type": "display_data"
    }
   ],
   "source": [
    "train_losses = history.history['loss']\n",
    "val_losses = history.history['val_loss']\n",
    "epoch = [i for i in range(len(train_losses))]\n",
    "\n",
    "plt.plot(epoch, train_losses, color='y', label='Training Losses')\n",
    "plt.plot(epoch, val_losses, color='b', label='Validation Losses')\n",
    "plt.xlabel('Epochs')\n",
    "plt.ylabel('Losses')\n",
    "plt.title('Epoch Vs Losses graph')\n",
    "plt.legend(loc='upper right')\n",
    "plt.show()"
   ]
  },
  {
   "cell_type": "code",
   "execution_count": 26,
   "id": "8f22904d",
   "metadata": {},
   "outputs": [
    {
     "name": "stderr",
     "output_type": "stream",
     "text": [
      "C:\\Users\\praha\\AppData\\Roaming\\Python\\Python311\\site-packages\\keras\\src\\engine\\training.py:3079: UserWarning: You are saving your model as an HDF5 file via `model.save()`. This file format is considered legacy. We recommend using instead the native Keras format, e.g. `model.save('my_model.keras')`.\n",
      "  saving_api.save_model(\n"
     ]
    }
   ],
   "source": [
    "model.save('p4_model1.h5')"
   ]
  },
  {
   "cell_type": "code",
   "execution_count": 27,
   "id": "e11fefeb",
   "metadata": {},
   "outputs": [
    {
     "name": "stdout",
     "output_type": "stream",
     "text": [
      "INFO:tensorflow:Assets written to: C:\\Users\\praha\\AppData\\Local\\Temp\\tmppnqrp_mq\\assets\n"
     ]
    },
    {
     "name": "stderr",
     "output_type": "stream",
     "text": [
      "INFO:tensorflow:Assets written to: C:\\Users\\praha\\AppData\\Local\\Temp\\tmppnqrp_mq\\assets\n"
     ]
    },
    {
     "data": {
      "text/plain": [
       "269228"
      ]
     },
     "execution_count": 27,
     "metadata": {},
     "output_type": "execute_result"
    }
   ],
   "source": [
    "#Load the saved model\n",
    "model = tf.keras.models.load_model('p4_model1.h5')\n",
    "\n",
    "converter = tf.lite.TFLiteConverter.from_keras_model(model)\n",
    "tflite_model=converter.convert()\n",
    "\n",
    "open(\"p4_model.tflite\",\"wb\").write(tflite_model)\n"
   ]
  },
  {
   "cell_type": "code",
   "execution_count": 28,
   "id": "332e2ec7",
   "metadata": {},
   "outputs": [],
   "source": [
    "# Load the TensorFlow Lite model\n",
    "interpreter = tf.lite.Interpreter(model_path='p4_model.tflite')\n",
    "\n",
    "interpreter.allocate_tensors()\n"
   ]
  },
  {
   "cell_type": "code",
   "execution_count": 29,
   "id": "fa066546",
   "metadata": {},
   "outputs": [
    {
     "name": "stdout",
     "output_type": "stream",
     "text": [
      "117/117 [==============================] - 0s 1ms/step\n"
     ]
    },
    {
     "data": {
      "text/plain": [
       "[<matplotlib.lines.Line2D at 0x1e6458aeed0>,\n",
       " <matplotlib.lines.Line2D at 0x1e6458aee50>,\n",
       " <matplotlib.lines.Line2D at 0x1e6458aef90>]"
      ]
     },
     "execution_count": 29,
     "metadata": {},
     "output_type": "execute_result"
    },
    {
     "data": {
      "image/png": "[encoded data removed]",
      "text/plain": [
       "<Figure size 640x480 with 1 Axes>"
      ]
     },
     "metadata": {},
     "output_type": "display_data"
    }
   ],
   "source": [
    "# Prepare your input data (replace this with your actual data)\n",
    "input_tensor_index = interpreter.get_input_details()[0]['index']\n",
    "output_tensor_index = interpreter.get_output_details()[0]['index']\n",
    "\n",
    "model_prediction=[]\n",
    "\n",
    "predictions=model.predict(X_test)\n",
    "y_pred_labels = np.argmax(predictions, axis=1)\n",
    "\n",
    "for val in X_test:\n",
    "  input_data = tf.convert_to_tensor([val], dtype=np.float32)\n",
    "  input_details = interpreter.get_input_details()\n",
    "    \n",
    "  input_tensor_index = input_details[0]['index']\n",
    " \n",
    "  interpreter.set_tensor(input_tensor_index, input_data)\n",
    " \n",
    "  interpreter.invoke()\n",
    "  model_prediction.append(interpreter.get_tensor(output_tensor_index)[0])\n",
    "    \n",
    "  \n",
    "result1 = np.argmax(model_prediction, axis=1)\n",
    "\n",
    "plt.clf()\n",
    "plt.title('Comparison of various model against actual values')\n",
    "plt.plot(X_test, y_test, 'bo', label='Actual')\n",
    "plt.plot(X_test, y_pred_labels, 'ro', label='Original Predictions')\n",
    "\n",
    "plt.plot(X_test, result1, 'bx', label='Lite Prediction')\n",
    "\n"
   ]
  },
  {
   "cell_type": "code",
   "execution_count": 30,
   "id": "3c89795f",
   "metadata": {},
   "outputs": [
    {
     "name": "stderr",
     "output_type": "stream",
     "text": [
      "'apt-get' is not recognized as an internal or external command,\n",
      "operable program or batch file.\n",
      "'xxd' is not recognized as an internal or external command,\n",
      "operable program or batch file.\n",
      "'cat' is not recognized as an internal or external command,\n",
      "operable program or batch file.\n"
     ]
    }
   ],
   "source": [
    "!apt-get -qq install xxd\n",
    "!xxd -i p4_model.tflite > p4_model.cc\n",
    "!cat p4_model.cc "
   ]
  },
  {
   "cell_type": "code",
   "execution_count": null,
   "id": "3a4e2e73",
   "metadata": {},
   "outputs": [],
   "source": []
  }
 ],
 "metadata": {
  "kernelspec": {
   "display_name": "Python 3 (ipykernel)",
   "language": "python",
   "name": "python3"
  },
  "language_info": {
   "codemirror_mode": {
    "name": "ipython",
    "version": 3
   },
   "file_extension": ".py",
   "mimetype": "text/x-python",
   "name": "python",
   "nbconvert_exporter": "python",
   "pygments_lexer": "ipython3",
   "version": "3.11.4"
  }
 },
 "nbformat": 4,
 "nbformat_minor": 5
}
