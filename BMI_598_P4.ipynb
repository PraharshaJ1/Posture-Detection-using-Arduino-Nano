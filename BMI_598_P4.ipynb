{
 "cells": [
  {
   "cell_type": "code",
   "execution_count": 1,
   "id": "b6c2b490",
   "metadata": {},
   "outputs": [],
   "source": [
    "import pandas as pd\n",
    "import numpy as np\n",
    "import glob\n",
    "import tensorflow as tf\n",
    "from sklearn.preprocessing import LabelEncoder\n",
    "from sklearn.model_selection import train_test_split\n",
    "from sklearn.preprocessing import StandardScaler\n"
   ]
  },
  {
   "cell_type": "code",
   "execution_count": 2,
   "id": "e88494f9",
   "metadata": {},
   "outputs": [
    {
     "name": "stdout",
     "output_type": "stream",
     "text": [
      "          0      1      2   class\n",
      "6589  62.52  16.53 -22.68  Supine\n",
      "6590  60.77  15.65 -22.84  Supine\n",
      "6591  61.36  16.87 -22.69  Supine\n",
      "6592  31.35  23.32 -21.94  Supine\n",
      "6593  30.25  23.23 -22.09  Supine\n"
     ]
    }
   ],
   "source": [
    "#Reading the supine csv data file\n",
    "df_supine=pd.read_csv(\"Supine1.csv\")\n",
    "df_supine.dropna()\n",
    "\n",
    "# splitting the data into columns\n",
    "accelerometer_cols = df_supine.iloc[:, 0:3]\n",
    "gyroscope_cols = df_supine.iloc[:, 3:6]\n",
    "magnetometer_cols = df_supine.iloc[:, 6:9]\n",
    "\n",
    "# Concatenating the values\n",
    "df_supine2 = pd.DataFrame({'class': np.repeat('Supine', len(df_supine) * 3)})\n",
    "df_supine = pd.DataFrame(np.vstack((accelerometer_cols, gyroscope_cols, magnetometer_cols)))\n",
    "df_supine = pd.concat([df_supine,df_supine2],axis=1)\n",
    "\n",
    "# Reseting the index\n",
    "df_supine = df_supine.reset_index(drop=True)\n",
    "\n",
    "print(df_supine.tail())"
   ]
  },
  {
   "cell_type": "code",
   "execution_count": 3,
   "id": "b0797fae",
   "metadata": {},
   "outputs": [
    {
     "name": "stdout",
     "output_type": "stream",
     "text": [
      "          0      1      2  class\n",
      "6589  29.04  23.75  41.37  Prone\n",
      "6590  27.65  22.78  41.88  Prone\n",
      "6591  27.34  24.10  40.45  Prone\n",
      "6592  27.62  24.06  39.78  Prone\n",
      "6593  28.22  21.61  41.77  Prone\n"
     ]
    }
   ],
   "source": [
    "#Reading the prone csv data file\n",
    "df_prone=pd.read_csv(\"Prone1.csv\")\n",
    "df_prone.dropna()\n",
    "\n",
    "# splitting the data into columns\n",
    "accelerometer_cols = df_prone.iloc[:, 0:3]\n",
    "gyroscope_cols = df_prone.iloc[:, 3:6]\n",
    "magnetometer_cols = df_prone.iloc[:, 6:9]\n",
    "\n",
    "# Concatenating the values\n",
    "df_prone2 = pd.DataFrame({'class': np.repeat('Prone', len(df_prone) * 3)})\n",
    "df_prone = pd.DataFrame(np.vstack((accelerometer_cols, gyroscope_cols, magnetometer_cols)))\n",
    "df_prone = pd.concat([df_prone,df_prone2],axis=1)\n",
    "\n",
    "# Reseting the index\n",
    "df_prone = df_prone.reset_index(drop=True)\n",
    "\n",
    "print(df_prone.tail())"
   ]
  },
  {
   "cell_type": "code",
   "execution_count": 4,
   "id": "3593191f",
   "metadata": {},
   "outputs": [
    {
     "name": "stdout",
     "output_type": "stream",
     "text": [
      "          0      1     2 class\n",
      "6589  52.84  33.41  2.47  Side\n",
      "6590  52.38  33.80  2.14  Side\n",
      "6591  52.06  33.86  3.72  Side\n",
      "6592  52.10  33.30  2.87  Side\n",
      "6593  52.64  33.14  1.32  Side\n"
     ]
    }
   ],
   "source": [
    "#Reading the side csv data file\n",
    "df_side=pd.read_csv(\"Side1.csv\")\n",
    "df_side.dropna()\n",
    "\n",
    "# splitting the data into columns\n",
    "accelerometer_cols = df_side.iloc[:, 0:3]\n",
    "gyroscope_cols = df_side.iloc[:, 3:6]\n",
    "magnetometer_cols = df_side.iloc[:, 6:9]\n",
    "\n",
    "# Concatenating the values\n",
    "df_side2 = pd.DataFrame({'class': np.repeat('Side', len(df_side) * 3)})\n",
    "df_side = pd.DataFrame(np.vstack((accelerometer_cols, gyroscope_cols, magnetometer_cols)))\n",
    "df_side = pd.concat([df_side,df_side2],axis=1)\n",
    "\n",
    "# Reseting the index\n",
    "df_side = df_side.reset_index(drop=True)\n",
    "\n",
    "print(df_side.tail())"
   ]
  },
  {
   "cell_type": "code",
   "execution_count": 5,
   "id": "a012db28",
   "metadata": {},
   "outputs": [
    {
     "name": "stdout",
     "output_type": "stream",
     "text": [
      "          0      1      2    class\n",
      "6589  55.73  11.69 -17.55  Sitting\n",
      "6590  55.77  10.74 -17.72  Sitting\n",
      "6591  56.12  11.49 -17.83  Sitting\n",
      "6592  55.55  11.58 -18.63  Sitting\n",
      "6593  56.01  11.65 -17.16  Sitting\n"
     ]
    }
   ],
   "source": [
    "#Reading the sitting csv data file\n",
    "df_sit=pd.read_csv(\"Sitting1.csv\")\n",
    "df_sit.dropna()\n",
    "\n",
    "# splitting the data into columns\n",
    "accelerometer_cols = df_sit.iloc[:, 0:3]\n",
    "gyroscope_cols = df_sit.iloc[:, 3:6]\n",
    "magnetometer_cols = df_sit.iloc[:, 6:9]\n",
    "\n",
    "# Concatenating the values\n",
    "df_sit2 = pd.DataFrame({'class': np.repeat('Sitting', len(df_sit) * 3)})\n",
    "df_sit = pd.DataFrame(np.vstack((accelerometer_cols, gyroscope_cols, magnetometer_cols)))\n",
    "df_sit = pd.concat([df_sit,df_sit2],axis=1)\n",
    "\n",
    "# Reseting the index\n",
    "df_sit = df_sit.reset_index(drop=True)\n",
    "\n",
    "print(df_sit.tail())"
   ]
  },
  {
   "cell_type": "code",
   "execution_count": 6,
   "id": "30bc84aa",
   "metadata": {},
   "outputs": [
    {
     "name": "stdout",
     "output_type": "stream",
     "text": [
      "          0      1      2    class\n",
      "6589  63.43 -10.64  30.93  Unknown\n",
      "6590  58.33  28.53  14.77  Unknown\n",
      "6591  44.25 -32.23  27.81  Unknown\n",
      "6592  53.20 -17.27  36.62  Unknown\n",
      "6593  49.30 -33.23  17.36  Unknown\n"
     ]
    }
   ],
   "source": [
    "#Reading the Unknown csv data file\n",
    "df_un=pd.read_csv(\"class5.csv\")\n",
    "df_un.dropna()\n",
    "\n",
    "# splitting the data into columns\n",
    "accelerometer_cols = df_un.iloc[:, 0:3]\n",
    "gyroscope_cols = df_un.iloc[:, 3:6]\n",
    "magnetometer_cols = df_un.iloc[:, 6:9]\n",
    "\n",
    "# Concatenating the values\n",
    "df_un2 = pd.DataFrame({'class': np.repeat('Unknown', len(df_un) * 3)})\n",
    "df_un = pd.DataFrame(np.vstack((accelerometer_cols, gyroscope_cols, magnetometer_cols)))\n",
    "df_un = pd.concat([df_un,df_un2],axis=1)\n",
    "\n",
    "# Reseting the index\n",
    "df_un = df_un.reset_index(drop=True)\n",
    "\n",
    "print(df_un.tail())"
   ]
  },
  {
   "cell_type": "code",
   "execution_count": 7,
   "id": "a3887f4a",
   "metadata": {},
   "outputs": [
    {
     "name": "stdout",
     "output_type": "stream",
     "text": [
      "           0      1      2    class\n",
      "0       0.04  -0.06   0.97   Supine\n",
      "1       0.06  -0.10   0.99   Supine\n",
      "2       0.04   0.00   0.93   Supine\n",
      "3       0.04   0.02   0.98   Supine\n",
      "4       0.17  -0.22   1.06   Supine\n",
      "...      ...    ...    ...      ...\n",
      "32965  63.43 -10.64  30.93  Unknown\n",
      "32966  58.33  28.53  14.77  Unknown\n",
      "32967  44.25 -32.23  27.81  Unknown\n",
      "32968  53.20 -17.27  36.62  Unknown\n",
      "32969  49.30 -33.23  17.36  Unknown\n",
      "\n",
      "[32970 rows x 4 columns]\n"
     ]
    }
   ],
   "source": [
    "#Combining all the data sets\n",
    "df = pd.concat([df_supine,df_prone,df_side,df_sit,df_un], axis=0)\n",
    "df = df.reset_index(drop=True)\n",
    "df=df.dropna()\n",
    "print(df)"
   ]
  },
  {
   "cell_type": "code",
   "execution_count": 8,
   "id": "5e3c7699",
   "metadata": {
    "scrolled": true
   },
   "outputs": [
    {
     "data": {
      "text/plain": [
       "0        False\n",
       "1        False\n",
       "2        False\n",
       "class    False\n",
       "dtype: bool"
      ]
     },
     "execution_count": 8,
     "metadata": {},
     "output_type": "execute_result"
    }
   ],
   "source": [
    "df.isnull().any()"
   ]
  },
  {
   "cell_type": "code",
   "execution_count": 9,
   "id": "fab8d7d1",
   "metadata": {},
   "outputs": [
    {
     "data": {
      "text/plain": [
       "array(['Supine', 'Prone', 'Side', 'Sitting', 'Unknown'], dtype=object)"
      ]
     },
     "execution_count": 9,
     "metadata": {},
     "output_type": "execute_result"
    }
   ],
   "source": [
    "df['class'].unique()"
   ]
  },
  {
   "cell_type": "code",
   "execution_count": 10,
   "id": "8efb6fe8",
   "metadata": {},
   "outputs": [
    {
     "data": {
      "text/plain": [
       "(32970,)"
      ]
     },
     "execution_count": 10,
     "metadata": {},
     "output_type": "execute_result"
    }
   ],
   "source": [
    "#Label Encoding is done to convert the Textual Data to Numerical Data\n",
    "le = LabelEncoder()\n",
    "df['class'] = le.fit_transform(df['class'])\n",
    "df['class'].shape\n"
   ]
  },
  {
   "cell_type": "code",
   "execution_count": 11,
   "id": "4063afad",
   "metadata": {},
   "outputs": [
    {
     "data": {
      "text/plain": [
       "(32970, 3)"
      ]
     },
     "execution_count": 11,
     "metadata": {},
     "output_type": "execute_result"
    }
   ],
   "source": [
    "#Splitting the dataset into Input and Output\n",
    "#X= df.drop(['class'], axis =1)\n",
    "X_df =df.iloc[:, 0:3]\n",
    "X=X_df.to_numpy()\n",
    "X.shape"
   ]
  },
  {
   "cell_type": "code",
   "execution_count": 12,
   "id": "98a5c902",
   "metadata": {},
   "outputs": [
    {
     "data": {
      "text/plain": [
       "(32970,)"
      ]
     },
     "execution_count": 12,
     "metadata": {},
     "output_type": "execute_result"
    }
   ],
   "source": [
    "#y = df['class']\n",
    "y_df=df.iloc[:,3]\n",
    "y=y_df.to_numpy()\n",
    "y.shape"
   ]
  },
  {
   "cell_type": "code",
   "execution_count": 13,
   "id": "915bb44f",
   "metadata": {},
   "outputs": [],
   "source": [
    "#Splitting the Dataset into Training , Testing and Validation data\n",
    "X_train, X_test, y_train, y_test = train_test_split(\n",
    "    X, y, test_size=0.1, random_state=1)\n",
    "X_train, X_val, y_train, y_val = train_test_split(\n",
    "    X_train, y_train, test_size=0.22, random_state=1)"
   ]
  },
  {
   "cell_type": "code",
   "execution_count": 14,
   "id": "5432c18b",
   "metadata": {},
   "outputs": [],
   "source": [
    "#Scaling the inputs using Standard Scaler\n",
    "sc = StandardScaler()\n",
    "X_train = sc.fit_transform(X_train)\n",
    "X_test = sc.fit_transform(X_test)\n",
    "X_val = sc.fit_transform(X_val)"
   ]
  },
  {
   "cell_type": "code",
   "execution_count": 15,
   "id": "5ea05cdf",
   "metadata": {},
   "outputs": [],
   "source": [
    "#Adding Noise to the data\n",
    "X_train = X_train + np.random.randn(*X_train.shape)\n",
    "X_val = X_val + np.random.randn(*X_val.shape)\n",
    "X_test = X_test + np.random.randn(*X_test.shape)"
   ]
  },
  {
   "cell_type": "code",
   "execution_count": 16,
   "id": "4a13a515",
   "metadata": {},
   "outputs": [],
   "source": [
    "#Importing the libraries of Neural Network\n",
    "import keras\n",
    "from keras.layers import Dense\n",
    "from keras.models import Sequential\n",
    "from keras.initializers import RandomUniform\n"
   ]
  },
  {
   "cell_type": "code",
   "execution_count": 27,
   "id": "5729a0d0",
   "metadata": {},
   "outputs": [
    {
     "name": "stdout",
     "output_type": "stream",
     "text": [
      "Epoch 1/100\n",
      "362/362 [==============================] - 4s 6ms/step - loss: 1.5893 - accuracy: 0.2160 - val_loss: 1.5795 - val_accuracy: 0.2221\n",
      "Epoch 2/100\n",
      "362/362 [==============================] - 2s 5ms/step - loss: 1.5722 - accuracy: 0.2381 - val_loss: 1.5704 - val_accuracy: 0.2334\n",
      "Epoch 3/100\n",
      "362/362 [==============================] - 2s 5ms/step - loss: 1.5649 - accuracy: 0.2454 - val_loss: 1.5640 - val_accuracy: 0.2360\n",
      "Epoch 4/100\n",
      "362/362 [==============================] - 2s 5ms/step - loss: 1.5605 - accuracy: 0.2472 - val_loss: 1.5605 - val_accuracy: 0.2455\n",
      "Epoch 5/100\n",
      "362/362 [==============================] - 2s 5ms/step - loss: 1.5570 - accuracy: 0.2494 - val_loss: 1.5578 - val_accuracy: 0.2400\n",
      "Epoch 6/100\n",
      "362/362 [==============================] - 2s 5ms/step - loss: 1.5547 - accuracy: 0.2500 - val_loss: 1.5562 - val_accuracy: 0.2495\n",
      "Epoch 7/100\n",
      "362/362 [==============================] - 2s 6ms/step - loss: 1.5531 - accuracy: 0.2506 - val_loss: 1.5550 - val_accuracy: 0.2463\n",
      "Epoch 8/100\n",
      "362/362 [==============================] - 2s 5ms/step - loss: 1.5517 - accuracy: 0.2519 - val_loss: 1.5539 - val_accuracy: 0.2487\n",
      "Epoch 9/100\n",
      "362/362 [==============================] - 2s 6ms/step - loss: 1.5506 - accuracy: 0.2519 - val_loss: 1.5530 - val_accuracy: 0.2489\n",
      "Epoch 10/100\n",
      "362/362 [==============================] - 2s 5ms/step - loss: 1.5497 - accuracy: 0.2548 - val_loss: 1.5540 - val_accuracy: 0.2415\n",
      "Epoch 11/100\n",
      "362/362 [==============================] - 2s 5ms/step - loss: 1.5494 - accuracy: 0.2513 - val_loss: 1.5532 - val_accuracy: 0.2492\n",
      "Epoch 12/100\n",
      "362/362 [==============================] - 2s 5ms/step - loss: 1.5485 - accuracy: 0.2554 - val_loss: 1.5521 - val_accuracy: 0.2512\n",
      "Epoch 13/100\n",
      "362/362 [==============================] - 2s 5ms/step - loss: 1.5484 - accuracy: 0.2563 - val_loss: 1.5530 - val_accuracy: 0.2533\n",
      "Epoch 14/100\n",
      "362/362 [==============================] - 2s 5ms/step - loss: 1.5479 - accuracy: 0.2559 - val_loss: 1.5525 - val_accuracy: 0.2469\n",
      "Epoch 15/100\n",
      "362/362 [==============================] - 2s 5ms/step - loss: 1.5477 - accuracy: 0.2551 - val_loss: 1.5527 - val_accuracy: 0.2515\n",
      "Epoch 16/100\n",
      "362/362 [==============================] - 2s 5ms/step - loss: 1.5474 - accuracy: 0.2548 - val_loss: 1.5520 - val_accuracy: 0.2507\n",
      "Epoch 17/100\n",
      "362/362 [==============================] - 2s 5ms/step - loss: 1.5469 - accuracy: 0.2558 - val_loss: 1.5514 - val_accuracy: 0.2523\n",
      "Epoch 18/100\n",
      "362/362 [==============================] - 2s 5ms/step - loss: 1.5466 - accuracy: 0.2558 - val_loss: 1.5514 - val_accuracy: 0.2529\n",
      "Epoch 19/100\n",
      "362/362 [==============================] - 2s 5ms/step - loss: 1.5466 - accuracy: 0.2562 - val_loss: 1.5517 - val_accuracy: 0.2509\n",
      "Epoch 20/100\n",
      "362/362 [==============================] - 2s 5ms/step - loss: 1.5463 - accuracy: 0.2569 - val_loss: 1.5517 - val_accuracy: 0.2464\n",
      "Epoch 21/100\n",
      "362/362 [==============================] - 2s 5ms/step - loss: 1.5462 - accuracy: 0.2560 - val_loss: 1.5513 - val_accuracy: 0.2518\n",
      "Epoch 22/100\n",
      "362/362 [==============================] - 2s 5ms/step - loss: 1.5458 - accuracy: 0.2585 - val_loss: 1.5513 - val_accuracy: 0.2481\n",
      "Epoch 23/100\n",
      "362/362 [==============================] - 2s 5ms/step - loss: 1.5456 - accuracy: 0.2562 - val_loss: 1.5511 - val_accuracy: 0.2539\n",
      "Epoch 24/100\n",
      "362/362 [==============================] - 2s 5ms/step - loss: 1.5455 - accuracy: 0.2572 - val_loss: 1.5519 - val_accuracy: 0.2510\n",
      "Epoch 25/100\n",
      "362/362 [==============================] - 2s 5ms/step - loss: 1.5451 - accuracy: 0.2600 - val_loss: 1.5514 - val_accuracy: 0.2507\n",
      "Epoch 26/100\n",
      "362/362 [==============================] - 2s 5ms/step - loss: 1.5450 - accuracy: 0.2603 - val_loss: 1.5517 - val_accuracy: 0.2521\n",
      "Epoch 27/100\n",
      "362/362 [==============================] - 2s 5ms/step - loss: 1.5449 - accuracy: 0.2575 - val_loss: 1.5516 - val_accuracy: 0.2515\n",
      "Epoch 28/100\n",
      "362/362 [==============================] - 2s 5ms/step - loss: 1.5449 - accuracy: 0.2573 - val_loss: 1.5511 - val_accuracy: 0.2477\n",
      "Epoch 29/100\n",
      "362/362 [==============================] - 2s 5ms/step - loss: 1.5446 - accuracy: 0.2589 - val_loss: 1.5519 - val_accuracy: 0.2510\n",
      "Epoch 30/100\n",
      "362/362 [==============================] - 2s 5ms/step - loss: 1.5445 - accuracy: 0.2615 - val_loss: 1.5518 - val_accuracy: 0.2484\n",
      "Epoch 31/100\n",
      "362/362 [==============================] - 2s 5ms/step - loss: 1.5443 - accuracy: 0.2612 - val_loss: 1.5518 - val_accuracy: 0.2498\n",
      "Epoch 32/100\n",
      "362/362 [==============================] - 2s 5ms/step - loss: 1.5443 - accuracy: 0.2615 - val_loss: 1.5523 - val_accuracy: 0.2521\n",
      "Epoch 33/100\n",
      "362/362 [==============================] - 2s 5ms/step - loss: 1.5441 - accuracy: 0.2593 - val_loss: 1.5520 - val_accuracy: 0.2507\n",
      "Epoch 34/100\n",
      "362/362 [==============================] - 2s 5ms/step - loss: 1.5439 - accuracy: 0.2617 - val_loss: 1.5522 - val_accuracy: 0.2477\n",
      "Epoch 35/100\n",
      "362/362 [==============================] - 2s 5ms/step - loss: 1.5438 - accuracy: 0.2615 - val_loss: 1.5530 - val_accuracy: 0.2435\n",
      "Epoch 36/100\n",
      "362/362 [==============================] - 2s 5ms/step - loss: 1.5438 - accuracy: 0.2584 - val_loss: 1.5516 - val_accuracy: 0.2512\n",
      "Epoch 37/100\n",
      "362/362 [==============================] - 2s 5ms/step - loss: 1.5435 - accuracy: 0.2621 - val_loss: 1.5528 - val_accuracy: 0.2446\n",
      "Epoch 38/100\n",
      "362/362 [==============================] - 2s 5ms/step - loss: 1.5434 - accuracy: 0.2611 - val_loss: 1.5527 - val_accuracy: 0.2503\n",
      "Epoch 39/100\n",
      "362/362 [==============================] - 2s 5ms/step - loss: 1.5434 - accuracy: 0.2616 - val_loss: 1.5522 - val_accuracy: 0.2454\n",
      "Epoch 40/100\n",
      "362/362 [==============================] - 2s 5ms/step - loss: 1.5432 - accuracy: 0.2623 - val_loss: 1.5523 - val_accuracy: 0.2500\n",
      "Epoch 41/100\n",
      "362/362 [==============================] - 2s 5ms/step - loss: 1.5432 - accuracy: 0.2634 - val_loss: 1.5525 - val_accuracy: 0.2435\n",
      "Epoch 42/100\n",
      "362/362 [==============================] - 2s 5ms/step - loss: 1.5429 - accuracy: 0.2621 - val_loss: 1.5527 - val_accuracy: 0.2539\n",
      "Epoch 43/100\n",
      "362/362 [==============================] - 2s 5ms/step - loss: 1.5428 - accuracy: 0.2617 - val_loss: 1.5519 - val_accuracy: 0.2518\n",
      "Epoch 44/100\n",
      "362/362 [==============================] - 2s 5ms/step - loss: 1.5430 - accuracy: 0.2630 - val_loss: 1.5520 - val_accuracy: 0.2480\n",
      "Epoch 45/100\n",
      "362/362 [==============================] - 2s 5ms/step - loss: 1.5429 - accuracy: 0.2628 - val_loss: 1.5527 - val_accuracy: 0.2518\n",
      "Epoch 46/100\n",
      "362/362 [==============================] - 2s 5ms/step - loss: 1.5424 - accuracy: 0.2616 - val_loss: 1.5529 - val_accuracy: 0.2513\n",
      "Epoch 47/100\n",
      "362/362 [==============================] - 2s 5ms/step - loss: 1.5427 - accuracy: 0.2619 - val_loss: 1.5528 - val_accuracy: 0.2547\n",
      "Epoch 48/100\n",
      "362/362 [==============================] - 2s 4ms/step - loss: 1.5425 - accuracy: 0.2621 - val_loss: 1.5530 - val_accuracy: 0.2507\n",
      "Epoch 49/100\n",
      "362/362 [==============================] - 2s 5ms/step - loss: 1.5422 - accuracy: 0.2636 - val_loss: 1.5528 - val_accuracy: 0.2498\n",
      "Epoch 50/100\n",
      "362/362 [==============================] - 2s 5ms/step - loss: 1.5421 - accuracy: 0.2632 - val_loss: 1.5535 - val_accuracy: 0.2556\n",
      "Epoch 51/100\n",
      "362/362 [==============================] - 2s 5ms/step - loss: 1.5422 - accuracy: 0.2629 - val_loss: 1.5530 - val_accuracy: 0.2461\n",
      "Epoch 52/100\n",
      "362/362 [==============================] - 2s 5ms/step - loss: 1.5419 - accuracy: 0.2634 - val_loss: 1.5529 - val_accuracy: 0.2509\n",
      "Epoch 53/100\n",
      "362/362 [==============================] - 2s 5ms/step - loss: 1.5421 - accuracy: 0.2645 - val_loss: 1.5529 - val_accuracy: 0.2523\n",
      "Epoch 54/100\n",
      "362/362 [==============================] - 2s 5ms/step - loss: 1.5420 - accuracy: 0.2636 - val_loss: 1.5528 - val_accuracy: 0.2492\n",
      "Epoch 55/100\n",
      "362/362 [==============================] - 2s 5ms/step - loss: 1.5416 - accuracy: 0.2634 - val_loss: 1.5527 - val_accuracy: 0.2530\n",
      "Epoch 56/100\n",
      "362/362 [==============================] - 2s 5ms/step - loss: 1.5416 - accuracy: 0.2657 - val_loss: 1.5526 - val_accuracy: 0.2506\n",
      "Epoch 57/100\n",
      "362/362 [==============================] - 2s 5ms/step - loss: 1.5417 - accuracy: 0.2665 - val_loss: 1.5530 - val_accuracy: 0.2520\n"
     ]
    },
    {
     "name": "stdout",
     "output_type": "stream",
     "text": [
      "Epoch 58/100\n",
      "362/362 [==============================] - 2s 6ms/step - loss: 1.5415 - accuracy: 0.2649 - val_loss: 1.5529 - val_accuracy: 0.2564\n",
      "Epoch 59/100\n",
      "362/362 [==============================] - 2s 5ms/step - loss: 1.5412 - accuracy: 0.2652 - val_loss: 1.5533 - val_accuracy: 0.2466\n",
      "Epoch 60/100\n",
      "362/362 [==============================] - 2s 5ms/step - loss: 1.5414 - accuracy: 0.2650 - val_loss: 1.5532 - val_accuracy: 0.2524\n",
      "Epoch 61/100\n",
      "362/362 [==============================] - 2s 5ms/step - loss: 1.5412 - accuracy: 0.2630 - val_loss: 1.5530 - val_accuracy: 0.2553\n",
      "Epoch 62/100\n",
      "362/362 [==============================] - 2s 5ms/step - loss: 1.5411 - accuracy: 0.2663 - val_loss: 1.5538 - val_accuracy: 0.2515\n",
      "Epoch 63/100\n",
      "362/362 [==============================] - 2s 5ms/step - loss: 1.5408 - accuracy: 0.2671 - val_loss: 1.5532 - val_accuracy: 0.2512\n",
      "Epoch 64/100\n",
      "362/362 [==============================] - 2s 5ms/step - loss: 1.5411 - accuracy: 0.2655 - val_loss: 1.5530 - val_accuracy: 0.2529\n",
      "Epoch 65/100\n",
      "362/362 [==============================] - 2s 5ms/step - loss: 1.5408 - accuracy: 0.2672 - val_loss: 1.5537 - val_accuracy: 0.2565\n",
      "Epoch 66/100\n",
      "362/362 [==============================] - 2s 5ms/step - loss: 1.5407 - accuracy: 0.2656 - val_loss: 1.5540 - val_accuracy: 0.2492\n",
      "Epoch 67/100\n",
      "362/362 [==============================] - 2s 5ms/step - loss: 1.5407 - accuracy: 0.2648 - val_loss: 1.5540 - val_accuracy: 0.2467\n",
      "Epoch 68/100\n",
      "362/362 [==============================] - 2s 5ms/step - loss: 1.5405 - accuracy: 0.2659 - val_loss: 1.5533 - val_accuracy: 0.2555\n",
      "Epoch 69/100\n",
      "362/362 [==============================] - 2s 5ms/step - loss: 1.5405 - accuracy: 0.2646 - val_loss: 1.5536 - val_accuracy: 0.2516\n",
      "Epoch 70/100\n",
      "362/362 [==============================] - 2s 5ms/step - loss: 1.5405 - accuracy: 0.2675 - val_loss: 1.5537 - val_accuracy: 0.2472\n",
      "Epoch 71/100\n",
      "362/362 [==============================] - 2s 5ms/step - loss: 1.5402 - accuracy: 0.2660 - val_loss: 1.5538 - val_accuracy: 0.2490\n",
      "Epoch 72/100\n",
      "362/362 [==============================] - 2s 5ms/step - loss: 1.5404 - accuracy: 0.2657 - val_loss: 1.5544 - val_accuracy: 0.2509\n",
      "Epoch 73/100\n",
      "362/362 [==============================] - 2s 5ms/step - loss: 1.5400 - accuracy: 0.2698 - val_loss: 1.5537 - val_accuracy: 0.2526\n",
      "Epoch 74/100\n",
      "362/362 [==============================] - 2s 5ms/step - loss: 1.5401 - accuracy: 0.2667 - val_loss: 1.5542 - val_accuracy: 0.2492\n",
      "Epoch 75/100\n",
      "362/362 [==============================] - 2s 5ms/step - loss: 1.5401 - accuracy: 0.2677 - val_loss: 1.5543 - val_accuracy: 0.2484\n",
      "Epoch 76/100\n",
      "362/362 [==============================] - 2s 5ms/step - loss: 1.5400 - accuracy: 0.2650 - val_loss: 1.5549 - val_accuracy: 0.2527\n",
      "Epoch 77/100\n",
      "362/362 [==============================] - 2s 5ms/step - loss: 1.5398 - accuracy: 0.2674 - val_loss: 1.5538 - val_accuracy: 0.2550\n",
      "Epoch 78/100\n",
      "362/362 [==============================] - 2s 5ms/step - loss: 1.5398 - accuracy: 0.2680 - val_loss: 1.5542 - val_accuracy: 0.2527\n",
      "Epoch 79/100\n",
      "362/362 [==============================] - 2s 5ms/step - loss: 1.5396 - accuracy: 0.2680 - val_loss: 1.5547 - val_accuracy: 0.2561\n",
      "Epoch 80/100\n",
      "362/362 [==============================] - 2s 5ms/step - loss: 1.5397 - accuracy: 0.2688 - val_loss: 1.5541 - val_accuracy: 0.2538\n",
      "Epoch 81/100\n",
      "362/362 [==============================] - 2s 5ms/step - loss: 1.5396 - accuracy: 0.2697 - val_loss: 1.5547 - val_accuracy: 0.2539\n",
      "Epoch 82/100\n",
      "362/362 [==============================] - 2s 5ms/step - loss: 1.5396 - accuracy: 0.2672 - val_loss: 1.5546 - val_accuracy: 0.2489\n",
      "Epoch 83/100\n",
      "362/362 [==============================] - 2s 5ms/step - loss: 1.5394 - accuracy: 0.2690 - val_loss: 1.5539 - val_accuracy: 0.2507\n",
      "Epoch 84/100\n",
      "362/362 [==============================] - 2s 5ms/step - loss: 1.5392 - accuracy: 0.2710 - val_loss: 1.5546 - val_accuracy: 0.2495\n",
      "Epoch 85/100\n",
      "362/362 [==============================] - 2s 5ms/step - loss: 1.5393 - accuracy: 0.2709 - val_loss: 1.5549 - val_accuracy: 0.2480\n",
      "Epoch 86/100\n",
      "362/362 [==============================] - 2s 5ms/step - loss: 1.5392 - accuracy: 0.2708 - val_loss: 1.5547 - val_accuracy: 0.2524\n",
      "Epoch 87/100\n",
      "362/362 [==============================] - 2s 5ms/step - loss: 1.5390 - accuracy: 0.2679 - val_loss: 1.5543 - val_accuracy: 0.2513\n",
      "Epoch 88/100\n",
      "362/362 [==============================] - 2s 5ms/step - loss: 1.5390 - accuracy: 0.2687 - val_loss: 1.5546 - val_accuracy: 0.2564\n",
      "Epoch 89/100\n",
      "362/362 [==============================] - 2s 5ms/step - loss: 1.5391 - accuracy: 0.2700 - val_loss: 1.5551 - val_accuracy: 0.2501\n",
      "Epoch 90/100\n",
      "362/362 [==============================] - 2s 5ms/step - loss: 1.5387 - accuracy: 0.2699 - val_loss: 1.5548 - val_accuracy: 0.2558\n",
      "Epoch 91/100\n",
      "362/362 [==============================] - 2s 5ms/step - loss: 1.5387 - accuracy: 0.2712 - val_loss: 1.5542 - val_accuracy: 0.2544\n",
      "Epoch 92/100\n",
      "362/362 [==============================] - 2s 5ms/step - loss: 1.5384 - accuracy: 0.2701 - val_loss: 1.5551 - val_accuracy: 0.2529\n",
      "Epoch 93/100\n",
      "362/362 [==============================] - 2s 5ms/step - loss: 1.5385 - accuracy: 0.2679 - val_loss: 1.5552 - val_accuracy: 0.2474\n",
      "Epoch 94/100\n",
      "362/362 [==============================] - 2s 5ms/step - loss: 1.5384 - accuracy: 0.2705 - val_loss: 1.5549 - val_accuracy: 0.2552\n",
      "Epoch 95/100\n",
      "362/362 [==============================] - 2s 5ms/step - loss: 1.5385 - accuracy: 0.2706 - val_loss: 1.5547 - val_accuracy: 0.2536\n",
      "Epoch 96/100\n",
      "362/362 [==============================] - 2s 5ms/step - loss: 1.5383 - accuracy: 0.2709 - val_loss: 1.5548 - val_accuracy: 0.2474\n",
      "Epoch 97/100\n",
      "362/362 [==============================] - 2s 5ms/step - loss: 1.5382 - accuracy: 0.2726 - val_loss: 1.5549 - val_accuracy: 0.2532\n",
      "Epoch 98/100\n",
      "362/362 [==============================] - 2s 5ms/step - loss: 1.5384 - accuracy: 0.2677 - val_loss: 1.5557 - val_accuracy: 0.2521\n",
      "Epoch 99/100\n",
      "362/362 [==============================] - 2s 5ms/step - loss: 1.5383 - accuracy: 0.2716 - val_loss: 1.5556 - val_accuracy: 0.2524\n",
      "Epoch 100/100\n",
      "362/362 [==============================] - 2s 5ms/step - loss: 1.5380 - accuracy: 0.2698 - val_loss: 1.5550 - val_accuracy: 0.2524\n"
     ]
    }
   ],
   "source": [
    "model = Sequential()\n",
    "model.add(Dense(units=3))\n",
    "# model.add(Dense(units=10,  activation = 'relu'))\n",
    "# model.add(Dense(units=20,  activation = 'relu'))\n",
    "\n",
    "model.add(Dense(units=500,  activation = 'relu'))\n",
    "model.add(Dense(units=125, activation = 'relu'))\n",
    "model.add(Dense(units=15, activation = 'relu'))\n",
    "\n",
    "model.add(Dense(units=5,  activation = 'softmax'))\n",
    "\n",
    "opt = tf.keras.optimizers.Adam(learning_rate=0.0001)\n",
    "model.compile(optimizer =opt, loss = 'sparse_categorical_crossentropy', metrics = ['accuracy'])\n",
    "\n",
    "history = model.fit(X_train,y_train,batch_size =64,validation_data=(X_val,y_val), epochs =100)"
   ]
  },
  {
   "cell_type": "code",
   "execution_count": null,
   "id": "c6f95d18",
   "metadata": {},
   "outputs": [],
   "source": [
    "y_pred = np.argmax(model.predict(X_test), axis=-1)\n",
    "y_pred"
   ]
  },
  {
   "cell_type": "code",
   "execution_count": null,
   "id": "3add981c",
   "metadata": {},
   "outputs": [],
   "source": [
    "index = ['Other','Prone','Side','Sitting','Supine']"
   ]
  },
  {
   "cell_type": "code",
   "execution_count": null,
   "id": "79cdf181",
   "metadata": {},
   "outputs": [],
   "source": [
    "class1 = index[y_pred[-3]]\n",
    "class1"
   ]
  },
  {
   "cell_type": "code",
   "execution_count": null,
   "id": "2160b17b",
   "metadata": {},
   "outputs": [],
   "source": [
    "from sklearn.metrics import accuracy_score\n",
    "from sklearn.metrics import classification_report"
   ]
  },
  {
   "cell_type": "code",
   "execution_count": null,
   "id": "b65a4b67",
   "metadata": {},
   "outputs": [],
   "source": [
    "accuracy = accuracy_score(y_test, y_pred)\n",
    "report = classification_report(y_test,y_pred)\n",
    "\n",
    "accuracy"
   ]
  },
  {
   "cell_type": "code",
   "execution_count": null,
   "id": "eac0a33e",
   "metadata": {},
   "outputs": [],
   "source": [
    "report"
   ]
  },
  {
   "cell_type": "code",
   "execution_count": null,
   "id": "7ce2427f",
   "metadata": {},
   "outputs": [],
   "source": [
    "import matplotlib.pyplot as plt"
   ]
  },
  {
   "cell_type": "code",
   "execution_count": null,
   "id": "842b9b98",
   "metadata": {},
   "outputs": [],
   "source": [
    "train_losses = history.history['loss']\n",
    "val_losses = history.history['val_loss']\n",
    "epoch = [i for i in range(len(train_losses))]\n",
    "\n",
    "plt.plot(epoch, train_losses, color='y', label='Training Losses')\n",
    "plt.plot(epoch, val_losses, color='b', label='Validation Losses')\n",
    "plt.xlabel('Epochs')\n",
    "plt.ylabel('Losses')\n",
    "plt.title('Epoch Vs Losses graph')\n",
    "plt.legend(loc='upper right')\n",
    "plt.show()"
   ]
  },
  {
   "cell_type": "code",
   "execution_count": null,
   "id": "8f22904d",
   "metadata": {},
   "outputs": [],
   "source": [
    "model.save('p4_model1.h5')"
   ]
  },
  {
   "cell_type": "code",
   "execution_count": null,
   "id": "e11fefeb",
   "metadata": {},
   "outputs": [],
   "source": [
    "#Load the saved model\n",
    "model = tf.keras.models.load_model('p4_model1.h5')\n",
    "\n",
    "converter = tf.lite.TFLiteConverter.from_keras_model(model)\n",
    "tflite_model=converter.convert()\n",
    "\n",
    "open(\"p4_model.tflite\",\"wb\").write(tflite_model)\n"
   ]
  },
  {
   "cell_type": "code",
   "execution_count": null,
   "id": "332e2ec7",
   "metadata": {},
   "outputs": [],
   "source": [
    "# Load the TensorFlow Lite model\n",
    "interpreter = tf.lite.Interpreter(model_path='p4_model.tflite')\n",
    "\n",
    "interpreter.allocate_tensors()\n"
   ]
  },
  {
   "cell_type": "code",
   "execution_count": null,
   "id": "fa066546",
   "metadata": {},
   "outputs": [],
   "source": [
    "# Prepare your input data (replace this with your actual data)\n",
    "input_tensor_index = interpreter.get_input_details()[0]['index']\n",
    "output_tensor_index = interpreter.get_output_details()[0]['index']\n",
    "\n",
    "model_prediction=[]\n",
    "\n",
    "predictions=model.predict(X_test)\n",
    "y_pred_labels = np.argmax(predictions, axis=1)\n",
    "\n",
    "for val in X_test:\n",
    "  input_data = tf.convert_to_tensor([val], dtype=np.float32)\n",
    "  input_details = interpreter.get_input_details()\n",
    "    \n",
    "  input_tensor_index = input_details[0]['index']\n",
    " \n",
    "  interpreter.set_tensor(input_tensor_index, input_data)\n",
    " \n",
    "  interpreter.invoke()\n",
    "  model_prediction.append(interpreter.get_tensor(output_tensor_index)[0])\n",
    "    \n",
    "  \n",
    "result1 = np.argmax(model_prediction, axis=1)\n",
    "\n",
    "plt.clf()\n",
    "plt.title('Comparison of various model against actual values')\n",
    "plt.plot(X_test, y_test, 'bo', label='Actual')\n",
    "plt.plot(X_test, y_pred_labels, 'ro', label='Original Predictions')\n",
    "\n",
    "plt.plot(X_test, result1, 'bx', label='Lite Prediction')\n",
    "\n"
   ]
  },
  {
   "cell_type": "code",
   "execution_count": null,
   "id": "3c89795f",
   "metadata": {},
   "outputs": [],
   "source": [
    "!apt-get -qq install xxd\n",
    "!xxd -i p4_model.tflite > p4_model.cc\n",
    "!cat p4_model.cc "
   ]
  },
  {
   "cell_type": "code",
   "execution_count": null,
   "id": "3a4e2e73",
   "metadata": {},
   "outputs": [],
   "source": []
  }
 ],
 "metadata": {
  "kernelspec": {
   "display_name": "Python 3 (ipykernel)",
   "language": "python",
   "name": "python3"
  },
  "language_info": {
   "codemirror_mode": {
    "name": "ipython",
    "version": 3
   },
   "file_extension": ".py",
   "mimetype": "text/x-python",
   "name": "python",
   "nbconvert_exporter": "python",
   "pygments_lexer": "ipython3",
   "version": "3.11.4"
  }
 },
 "nbformat": 4,
 "nbformat_minor": 5
}
